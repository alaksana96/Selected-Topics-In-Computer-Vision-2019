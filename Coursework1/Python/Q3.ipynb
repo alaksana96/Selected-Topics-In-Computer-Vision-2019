{
 "cells": [
  {
   "cell_type": "markdown",
   "metadata": {},
   "source": [
    "# RF Code-Book"
   ]
  },
  {
   "cell_type": "code",
   "execution_count": 1,
   "metadata": {},
   "outputs": [],
   "source": [
    "#import libs\n",
    "from sklearn.cluster import KMeans\n",
    "from sklearn.ensemble import RandomTreesEmbedding\n",
    "from sklearn.ensemble import RandomForestClassifier\n",
    "from sklearn import tree\n",
    "import numpy as np\n",
    "import scipy.io as sio\n",
    "import graphviz "
   ]
  },
  {
   "cell_type": "code",
   "execution_count": 2,
   "metadata": {},
   "outputs": [],
   "source": [
    "#import data\n",
    "mat_file = sio.loadmat('./Python/matlab.mat')\n",
    "desc_sel = mat_file['desc_sel']\n",
    "desc_sel = desc_sel.T\n",
    "train = mat_file['desc_tr']\n",
    "test = mat_file['desc_te']\n",
    "classList = mat_file['classList']"
   ]
  },
  {
   "cell_type": "code",
   "execution_count": 3,
   "metadata": {},
   "outputs": [],
   "source": [
    "#Codebook Generation \n",
    "num_tree = 900\n",
    "depth_max = 8\n",
    "\n",
    "# RF codebook algorithm\n",
    "codebook_algorithm = RandomTreesEmbedding(\n",
    "    n_estimators=num_tree,max_depth=depth_max).fit(desc_sel)\n"
   ]
  },
  {
   "cell_type": "code",
   "execution_count": null,
   "metadata": {},
   "outputs": [],
   "source": [
    "#generate train histogram \n",
    "train_class, num_class = train.shape\n",
    "n_out = codebook_algorithm.transform(train[0][0].T).sum(axis=0).shape[1]\n",
    "\n",
    "# vector quantisation\n",
    "data_train = np.zeros(\n",
    "    (train_class*num_class, n_out))\n",
    "result_train = np.zeros(\n",
    "    (train_class*num_class))\n",
    "\n",
    "for i in range(train_class):\n",
    "    for j in range(num_class):\n",
    "        # set features\n",
    "        data_train[num_class * (i)+j, :] = codebook_algorithm.transform(\n",
    "            train[i][j].T).sum(axis=0).ravel()\n",
    "        # set label\n",
    "        result_train[num_class*(i)+j] = i"
   ]
  },
  {
   "cell_type": "code",
   "execution_count": null,
   "metadata": {},
   "outputs": [],
   "source": [
    "#generate test histogram\n",
    "test_class, num_class_t = test.shape\n",
    "\n",
    "# vector quantisation\n",
    "data_test = np.zeros(\n",
    "    (test_class*num_class_t, n_out))\n",
    "result_test = np.zeros(\n",
    "    (test_class*num_class_t))\n",
    "for i in range(test_class):\n",
    "    for j in range(num_class_t):\n",
    "        # set features\n",
    "        data_test[num_class_t * (i)+j, :] = codebook_algorithm.transform(\n",
    "            test[i][j].T).sum(axis=0).ravel()\n",
    "        # set label\n",
    "        result_test[num_class*(i)+j] = i"
   ]
  },
  {
   "cell_type": "markdown",
   "metadata": {},
   "source": [
    "# RF Prediction"
   ]
  },
  {
   "cell_type": "code",
   "execution_count": null,
   "metadata": {},
   "outputs": [],
   "source": [
    "rf = RandomForestClassifier(n_estimators=900, max_depth=8,random_state=0)\n",
    "model = rf.fit(data_train, result_train)\n",
    "a = model.predict(data_test)\n",
    "print('Accuracy',np.sum( a == result_train )/np.size(a))"
   ]
  },
  {
   "cell_type": "code",
   "execution_count": null,
   "metadata": {},
   "outputs": [],
   "source": []
  }
 ],
 "metadata": {
  "kernelspec": {
   "display_name": "Python 3",
   "language": "python",
   "name": "python3"
  },
  "language_info": {
   "codemirror_mode": {
    "name": "ipython",
    "version": 3
   },
   "file_extension": ".py",
   "mimetype": "text/x-python",
   "name": "python",
   "nbconvert_exporter": "python",
   "pygments_lexer": "ipython3",
   "version": "3.5.2"
  }
 },
 "nbformat": 4,
 "nbformat_minor": 2
}
