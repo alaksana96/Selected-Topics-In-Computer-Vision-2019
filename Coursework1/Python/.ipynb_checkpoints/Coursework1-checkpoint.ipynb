{
 "cells": [
  {
   "cell_type": "code",
   "execution_count": 157,
   "metadata": {},
   "outputs": [],
   "source": [
    "import matplotlib.pyplot as plt\n",
    "import numpy as np\n",
    "import scipy.io as sio\n",
    "\n",
    "from sklearn.cluster import KMeans"
   ]
  },
  {
   "cell_type": "code",
   "execution_count": 158,
   "metadata": {},
   "outputs": [],
   "source": [
    "mat_file = sio.loadmat('matlab.mat')"
   ]
  },
  {
   "cell_type": "code",
   "execution_count": 159,
   "metadata": {},
   "outputs": [
    {
     "data": {
      "text/plain": [
       "dict_keys(['__header__', '__version__', '__globals__', 'MODE', 'showImg', 'PHOW_Sizes', 'PHOW_Step', 'imgSel', 'folderName', 'classList', 'cnt', 'c', 'subFolderName', 'imgList', 'imgIdx', 'imgIdx_tr', 'imgIdx_te', 'i', 'I', 'desc_tr', 'desc_sel', 'numBins', 'desc_te'])"
      ]
     },
     "execution_count": 159,
     "metadata": {},
     "output_type": "execute_result"
    }
   ],
   "source": [
    "mat_file.keys()"
   ]
  },
  {
   "cell_type": "code",
   "execution_count": 160,
   "metadata": {},
   "outputs": [
    {
     "data": {
      "text/plain": [
       "(128, 3363)"
      ]
     },
     "execution_count": 160,
     "metadata": {},
     "output_type": "execute_result"
    }
   ],
   "source": [
    "mat_file['desc_tr'][0][0].shape"
   ]
  },
  {
   "cell_type": "code",
   "execution_count": 187,
   "metadata": {},
   "outputs": [
    {
     "data": {
      "text/plain": [
       "(60, 1)"
      ]
     },
     "execution_count": 187,
     "metadata": {},
     "output_type": "execute_result"
    }
   ],
   "source": [
    "imgList = mat_file[ 'imgList' ]\n",
    "\n",
    "imgList.shape"
   ]
  },
  {
   "cell_type": "code",
   "execution_count": 288,
   "metadata": {},
   "outputs": [
    {
     "data": {
      "text/plain": [
       "421183"
      ]
     },
     "execution_count": 288,
     "metadata": {},
     "output_type": "execute_result"
    }
   ],
   "source": [
    "desc_count = 0\n",
    "\n",
    "for i in range( 10 ):\n",
    "    \n",
    "    for j in range( 15 ):\n",
    "\n",
    "        desc_count += desc_tr[ i ][ j ].shape[ 1 ]\n",
    "        \n",
    "desc_count"
   ]
  },
  {
   "cell_type": "markdown",
   "metadata": {},
   "source": [
    "## K-Means Codebook"
   ]
  },
  {
   "cell_type": "code",
   "execution_count": 161,
   "metadata": {},
   "outputs": [
    {
     "data": {
      "text/plain": [
       "(100000, 128)"
      ]
     },
     "execution_count": 161,
     "metadata": {},
     "output_type": "execute_result"
    }
   ],
   "source": [
    "desc_sel = mat_file[ 'desc_sel' ]\n",
    "desc_sel = desc_sel.T\n",
    "\n",
    "desc_sel.shape"
   ]
  },
  {
   "cell_type": "code",
   "execution_count": 162,
   "metadata": {},
   "outputs": [],
   "source": [
    "no_clusters = 256\n",
    "\n",
    "codebook = KMeans( n_clusters = no_clusters, random_state = 0 ).fit( desc_sel )"
   ]
  },
  {
   "cell_type": "code",
   "execution_count": 171,
   "metadata": {},
   "outputs": [
    {
     "data": {
      "image/png": "[encoded data removed]",
      "text/plain": [
       "<Figure size 432x288 with 1 Axes>"
      ]
     },
     "metadata": {
      "needs_background": "light"
     },
     "output_type": "display_data"
    }
   ],
   "source": [
    "test = desc_tr[0][4]\n",
    "\n",
    "result = codebook.predict( test.T )\n",
    "\n",
    "plt.hist( result, bins = range( 0, 256 ) )\n",
    "plt.show()"
   ]
  },
  {
   "cell_type": "code",
   "execution_count": 240,
   "metadata": {},
   "outputs": [
    {
     "data": {
      "text/plain": [
       "(3363, 128)"
      ]
     },
     "execution_count": 240,
     "metadata": {},
     "output_type": "execute_result"
    }
   ],
   "source": [
    "test"
   ]
  },
  {
   "cell_type": "code",
   "execution_count": 172,
   "metadata": {},
   "outputs": [
    {
     "data": {
      "text/plain": [
       "(255,)"
      ]
     },
     "execution_count": 172,
     "metadata": {},
     "output_type": "execute_result"
    }
   ],
   "source": [
    "hist = np.histogram( result, bins = range( 0, 256 ) )\n",
    "\n",
    "hist[ 0 ].shape"
   ]
  },
  {
   "cell_type": "code",
   "execution_count": 173,
   "metadata": {},
   "outputs": [],
   "source": [
    "class_0 = desc_tr[ 3 ]\n",
    "\n",
    "avg_hist = []\n",
    "\n",
    "for image in class_0:\n",
    "    \n",
    "    result = codebook.predict( image.T )\n",
    "    avg_hist.append( np.histogram( result, bins = 256 )[ 0 ] )\n",
    "    \n",
    "avg_hist = np.asarray( avg_hist )\n",
    "avg_hist = avg_hist.mean(axis = 0)"
   ]
  },
  {
   "cell_type": "code",
   "execution_count": 174,
   "metadata": {},
   "outputs": [
    {
     "data": {
      "text/plain": [
       "<BarContainer object of 256 artists>"
      ]
     },
     "execution_count": 174,
     "metadata": {},
     "output_type": "execute_result"
    },
    {
     "data": {
      "image/png": "[encoded data removed]",
      "text/plain": [
       "<Figure size 432x288 with 1 Axes>"
      ]
     },
     "metadata": {
      "needs_background": "light"
     },
     "output_type": "display_data"
    }
   ],
   "source": [
    "plt.bar( range( 0, 256 ), avg_hist )"
   ]
  },
  {
   "cell_type": "markdown",
   "metadata": {},
   "source": [
    "# Utility Functions"
   ]
  },
  {
   "cell_type": "code",
   "execution_count": 337,
   "metadata": {},
   "outputs": [],
   "source": [
    "def vq_data( data, codebook, vocab_size ):\n",
    "    \n",
    "    train_vq = []\n",
    "    \n",
    "    for image in data:\n",
    "        image = image.T\n",
    "\n",
    "        image_vq = codebook.predict( image )\n",
    "        image_vq = np.histogram( image_vq, bins = vocab_size )[ 0 ]\n",
    "\n",
    "        train_vq.append( image_vq )\n",
    "\n",
    "    train_vq = np.asarray( train_vq )\n",
    "    \n",
    "    return train_vq"
   ]
  },
  {
   "cell_type": "markdown",
   "metadata": {},
   "source": [
    "___\n",
    "# Question 1\n",
    "\n",
    "## Train Images"
   ]
  },
  {
   "cell_type": "code",
   "execution_count": 211,
   "metadata": {},
   "outputs": [
    {
     "name": "stdout",
     "output_type": "stream",
     "text": [
      "(10, 15)\n"
     ]
    },
    {
     "data": {
      "text/plain": [
       "(150,)"
      ]
     },
     "execution_count": 211,
     "metadata": {},
     "output_type": "execute_result"
    }
   ],
   "source": [
    "desc_tr = mat_file[ 'desc_tr' ]\n",
    "\n",
    "print( desc_tr.shape )\n",
    "\n",
    "label_tr = np.asarray( [i for i in range(1,11) for x in range(15)] )\n",
    "\n",
    "label_tr.shape"
   ]
  },
  {
   "cell_type": "code",
   "execution_count": 233,
   "metadata": {},
   "outputs": [
    {
     "data": {
      "text/plain": [
       "(3363, 128)"
      ]
     },
     "execution_count": 233,
     "metadata": {},
     "output_type": "execute_result"
    }
   ],
   "source": [
    "train = desc_tr.reshape( 150 )\n",
    "\n",
    "train[ 0 ].T.shape"
   ]
  },
  {
   "cell_type": "markdown",
   "metadata": {},
   "source": [
    "## Test Images"
   ]
  },
  {
   "cell_type": "code",
   "execution_count": 208,
   "metadata": {},
   "outputs": [
    {
     "name": "stdout",
     "output_type": "stream",
     "text": [
      "(10, 15)\n"
     ]
    }
   ],
   "source": [
    "desc_te = mat_file[ 'desc_te' ]\n",
    "\n",
    "print( desc_tr.shape )\n",
    "\n",
    "label_te = [ [i for _ in range( 15 ) ] for i in range( 1, 11 ) ]"
   ]
  },
  {
   "cell_type": "markdown",
   "metadata": {},
   "source": [
    "## Vary Vocabulary Size"
   ]
  },
  {
   "cell_type": "code",
   "execution_count": 291,
   "metadata": {},
   "outputs": [],
   "source": [
    "random_state = 0\n",
    "img_index    = 60"
   ]
  },
  {
   "cell_type": "markdown",
   "metadata": {},
   "source": [
    "### Size 2"
   ]
  },
  {
   "cell_type": "code",
   "execution_count": 338,
   "metadata": {},
   "outputs": [],
   "source": [
    "vocab_size = 2\n",
    "codebook_2 = KMeans( n_clusters = vocab_size, random_state = random_state ).fit( desc_sel )"
   ]
  },
  {
   "cell_type": "code",
   "execution_count": 339,
   "metadata": {},
   "outputs": [
    {
     "name": "stdout",
     "output_type": "stream",
     "text": [
      "(150, 2)\n"
     ]
    }
   ],
   "source": [
    "train_vq_2 = vq_data( train, codebook_2, 2 )\n",
    "print( train_vq_2.shape )"
   ]
  },
  {
   "cell_type": "markdown",
   "metadata": {},
   "source": [
    "### Size 16"
   ]
  },
  {
   "cell_type": "code",
   "execution_count": 179,
   "metadata": {},
   "outputs": [],
   "source": [
    "vocab_size  = 16\n",
    "codebook_16 = KMeans( n_clusters = vocab_size, random_state = random_state ).fit( desc_sel )"
   ]
  },
  {
   "cell_type": "code",
   "execution_count": 274,
   "metadata": {},
   "outputs": [
    {
     "name": "stdout",
     "output_type": "stream",
     "text": [
      "(150, 16)\n"
     ]
    }
   ],
   "source": [
    "train_vq_16 = vq_data( train, codebook_16, 16 )\n",
    "print( train_vq_16.shape )"
   ]
  },
  {
   "cell_type": "markdown",
   "metadata": {},
   "source": [
    "### Size 64"
   ]
  },
  {
   "cell_type": "code",
   "execution_count": 181,
   "metadata": {},
   "outputs": [],
   "source": [
    "vocab_size  = 64\n",
    "codebook_64 = KMeans( n_clusters = vocab_size, random_state = random_state ).fit( desc_sel )"
   ]
  },
  {
   "cell_type": "code",
   "execution_count": 275,
   "metadata": {},
   "outputs": [
    {
     "name": "stdout",
     "output_type": "stream",
     "text": [
      "(150, 64)\n"
     ]
    }
   ],
   "source": [
    "train_vq_64 = vq_data( train, codebook_64, 64 )\n",
    "print( train_vq_64.shape )"
   ]
  },
  {
   "cell_type": "markdown",
   "metadata": {},
   "source": [
    "### Size 128"
   ]
  },
  {
   "cell_type": "code",
   "execution_count": 182,
   "metadata": {},
   "outputs": [],
   "source": [
    "vocab_size   = 128\n",
    "codebook_128 = KMeans( n_clusters = vocab_size, random_state = random_state ).fit( desc_sel )"
   ]
  },
  {
   "cell_type": "code",
   "execution_count": 276,
   "metadata": {},
   "outputs": [
    {
     "name": "stdout",
     "output_type": "stream",
     "text": [
      "(150, 128)\n"
     ]
    }
   ],
   "source": [
    "train_vq_128 = vq_data( train, codebook_128, 128 )\n",
    "print( train_vq_128.shape )"
   ]
  },
  {
   "cell_type": "markdown",
   "metadata": {},
   "source": [
    "## Size 256"
   ]
  },
  {
   "cell_type": "code",
   "execution_count": 297,
   "metadata": {},
   "outputs": [],
   "source": [
    "vocab_size   = 256\n",
    "codebook_256 = KMeans( n_clusters = vocab_size, random_state = random_state ).fit( desc_sel )"
   ]
  },
  {
   "cell_type": "code",
   "execution_count": 298,
   "metadata": {},
   "outputs": [
    {
     "name": "stdout",
     "output_type": "stream",
     "text": [
      "(150, 256)\n"
     ]
    }
   ],
   "source": [
    "train_vq_256 = vq_data( train, codebook_256, 256 )\n",
    "print( train_vq_256.shape )"
   ]
  },
  {
   "cell_type": "markdown",
   "metadata": {},
   "source": [
    "## Histograms"
   ]
  },
  {
   "cell_type": "code",
   "execution_count": 347,
   "metadata": {},
   "outputs": [
    {
     "data": {
      "image/png": "[encoded data removed]",
      "text/plain": [
       "<Figure size 432x288 with 1 Axes>"
      ]
     },
     "metadata": {
      "needs_background": "light"
     },
     "output_type": "display_data"
    },
    {
     "data": {
      "image/png": "[encoded data removed]",
      "text/plain": [
       "<Figure size 432x288 with 1 Axes>"
      ]
     },
     "metadata": {
      "needs_background": "light"
     },
     "output_type": "display_data"
    },
    {
     "data": {
      "image/png": "[encoded data removed]",
      "text/plain": [
       "<Figure size 432x288 with 1 Axes>"
      ]
     },
     "metadata": {
      "needs_background": "light"
     },
     "output_type": "display_data"
    },
    {
     "data": {
      "image/png": "[encoded data removed]",
      "text/plain": [
       "<Figure size 432x288 with 1 Axes>"
      ]
     },
     "metadata": {
      "needs_background": "light"
     },
     "output_type": "display_data"
    },
    {
     "data": {
      "image/png": "[encoded data removed]",
      "text/plain": [
       "<Figure size 432x288 with 1 Axes>"
      ]
     },
     "metadata": {
      "needs_background": "light"
     },
     "output_type": "display_data"
    }
   ],
   "source": [
    "col = 'green'\n",
    "\n",
    "fig1 = plt.figure()\n",
    "plt.xlim( 0.5, 2.5 )\n",
    "plt.bar( [1, 2], train_vq_2[ img_index ], color = col, width = 0.2 )\n",
    "# plt.hist( train_vq_2[ img_index ], bins = 'auto' )\n",
    "\n",
    "fig2 = plt.figure()\n",
    "plt.bar( range( 1, 17 ), train_vq_16[ img_index ], color = col )\n",
    "\n",
    "fig3 = plt.figure()\n",
    "plt.bar( range( 1, 65 ), train_vq_64[ img_index ], color = col )\n",
    "\n",
    "fig4 = plt.figure()\n",
    "plt.bar( range( 1, 129 ), train_vq_128[ img_index ], color = col )\n",
    "\n",
    "fig5 = plt.figure()\n",
    "plt.bar( range( 1, 257 ), train_vq_256[ img_index ], color = col )\n",
    "\n",
    "plt.show()"
   ]
  },
  {
   "cell_type": "code",
   "execution_count": null,
   "metadata": {},
   "outputs": [],
   "source": []
  }
 ],
 "metadata": {
  "kernelspec": {
   "display_name": "Python 3",
   "language": "python",
   "name": "python3"
  },
  "language_info": {
   "codemirror_mode": {
    "name": "ipython",
    "version": 3
   },
   "file_extension": ".py",
   "mimetype": "text/x-python",
   "name": "python",
   "nbconvert_exporter": "python",
   "pygments_lexer": "ipython3",
   "version": "3.7.0"
  }
 },
 "nbformat": 4,
 "nbformat_minor": 2
}
