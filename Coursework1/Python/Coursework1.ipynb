{
 "cells": [
  {
   "cell_type": "code",
   "execution_count": 157,
   "metadata": {},
   "outputs": [],
   "source": [
    "import matplotlib.pyplot as plt\n",
    "import numpy as np\n",
    "import scipy.io as sio\n",
    "\n",
    "from sklearn.cluster import KMeans"
   ]
  },
  {
   "cell_type": "code",
   "execution_count": 158,
   "metadata": {},
   "outputs": [],
   "source": [
    "mat_file = sio.loadmat('matlab.mat')"
   ]
  },
  {
   "cell_type": "code",
   "execution_count": 159,
   "metadata": {},
   "outputs": [
    {
     "data": {
      "text/plain": [
       "dict_keys(['__header__', '__version__', '__globals__', 'MODE', 'showImg', 'PHOW_Sizes', 'PHOW_Step', 'imgSel', 'folderName', 'classList', 'cnt', 'c', 'subFolderName', 'imgList', 'imgIdx', 'imgIdx_tr', 'imgIdx_te', 'i', 'I', 'desc_tr', 'desc_sel', 'numBins', 'desc_te'])"
      ]
     },
     "execution_count": 159,
     "metadata": {},
     "output_type": "execute_result"
    }
   ],
   "source": [
    "mat_file.keys()"
   ]
  },
  {
   "cell_type": "code",
   "execution_count": 160,
   "metadata": {},
   "outputs": [
    {
     "data": {
      "text/plain": [
       "(128, 3363)"
      ]
     },
     "execution_count": 160,
     "metadata": {},
     "output_type": "execute_result"
    }
   ],
   "source": [
    "mat_file['desc_tr'][0][0].shape"
   ]
  },
  {
   "cell_type": "code",
   "execution_count": 457,
   "metadata": {},
   "outputs": [
    {
     "data": {
      "text/plain": [
       "array([[array(['tick'], dtype='<U4'), array(['trilobite'], dtype='<U9'),\n",
       "        array(['umbrella'], dtype='<U8'), array(['watch'], dtype='<U5'),\n",
       "        array(['water_lilly'], dtype='<U11'),\n",
       "        array(['wheelchair'], dtype='<U10'),\n",
       "        array(['wild_cat'], dtype='<U8'),\n",
       "        array(['windsor_chair'], dtype='<U13'),\n",
       "        array(['wrench'], dtype='<U6'), array(['yin_yang'], dtype='<U8')]],\n",
       "      dtype=object)"
      ]
     },
     "execution_count": 457,
     "metadata": {},
     "output_type": "execute_result"
    }
   ],
   "source": [
    "classList = mat_file['classList']\n",
    "\n",
    "classList"
   ]
  },
  {
   "cell_type": "code",
   "execution_count": 288,
   "metadata": {},
   "outputs": [
    {
     "data": {
      "text/plain": [
       "421183"
      ]
     },
     "execution_count": 288,
     "metadata": {},
     "output_type": "execute_result"
    }
   ],
   "source": [
    "desc_count = 0\n",
    "\n",
    "for i in range( 10 ):\n",
    "    \n",
    "    for j in range( 15 ):\n",
    "\n",
    "        desc_count += desc_tr[ i ][ j ].shape[ 1 ]\n",
    "        \n",
    "desc_count"
   ]
  },
  {
   "cell_type": "markdown",
   "metadata": {},
   "source": [
    "## K-Means Codebook"
   ]
  },
  {
   "cell_type": "code",
   "execution_count": 161,
   "metadata": {},
   "outputs": [
    {
     "data": {
      "text/plain": [
       "(100000, 128)"
      ]
     },
     "execution_count": 161,
     "metadata": {},
     "output_type": "execute_result"
    }
   ],
   "source": [
    "desc_sel = mat_file[ 'desc_sel' ]\n",
    "desc_sel = desc_sel.T\n",
    "\n",
    "desc_sel.shape"
   ]
  },
  {
   "cell_type": "code",
   "execution_count": 162,
   "metadata": {},
   "outputs": [],
   "source": [
    "no_clusters = 256\n",
    "\n",
    "codebook = KMeans( n_clusters = no_clusters, random_state = 0 ).fit( desc_sel )"
   ]
  },
  {
   "cell_type": "code",
   "execution_count": 171,
   "metadata": {},
   "outputs": [
    {
     "data": {
      "image/png": "[encoded data removed]",
      "text/plain": [
       "<Figure size 432x288 with 1 Axes>"
      ]
     },
     "metadata": {
      "needs_background": "light"
     },
     "output_type": "display_data"
    }
   ],
   "source": [
    "test = desc_tr[0][4]\n",
    "\n",
    "result = codebook.predict( test.T )\n",
    "\n",
    "plt.hist( result, bins = range( 0, 256 ) )\n",
    "plt.show()"
   ]
  },
  {
   "cell_type": "code",
   "execution_count": 240,
   "metadata": {},
   "outputs": [
    {
     "data": {
      "text/plain": [
       "(3363, 128)"
      ]
     },
     "execution_count": 240,
     "metadata": {},
     "output_type": "execute_result"
    }
   ],
   "source": [
    "test"
   ]
  },
  {
   "cell_type": "code",
   "execution_count": 172,
   "metadata": {},
   "outputs": [
    {
     "data": {
      "text/plain": [
       "(255,)"
      ]
     },
     "execution_count": 172,
     "metadata": {},
     "output_type": "execute_result"
    }
   ],
   "source": [
    "hist = np.histogram( result, bins = range( 0, 256 ) )\n",
    "\n",
    "hist[ 0 ].shape"
   ]
  },
  {
   "cell_type": "code",
   "execution_count": 173,
   "metadata": {},
   "outputs": [],
   "source": [
    "class_0 = desc_tr[ 3 ]\n",
    "\n",
    "avg_hist = []\n",
    "\n",
    "for image in class_0:\n",
    "    \n",
    "    result = codebook.predict( image.T )\n",
    "    avg_hist.append( np.histogram( result, bins = 256 )[ 0 ] )\n",
    "    \n",
    "avg_hist = np.asarray( avg_hist )\n",
    "avg_hist = avg_hist.mean(axis = 0)"
   ]
  },
  {
   "cell_type": "code",
   "execution_count": 174,
   "metadata": {},
   "outputs": [
    {
     "data": {
      "text/plain": [
       "<BarContainer object of 256 artists>"
      ]
     },
     "execution_count": 174,
     "metadata": {},
     "output_type": "execute_result"
    },
    {
     "data": {
      "image/png": "[encoded data removed]",
      "text/plain": [
       "<Figure size 432x288 with 1 Axes>"
      ]
     },
     "metadata": {
      "needs_background": "light"
     },
     "output_type": "display_data"
    }
   ],
   "source": [
    "plt.bar( range( 0, 256 ), avg_hist )"
   ]
  },
  {
   "cell_type": "markdown",
   "metadata": {},
   "source": [
    "# Utility Functions"
   ]
  },
  {
   "cell_type": "code",
   "execution_count": 337,
   "metadata": {},
   "outputs": [],
   "source": [
    "def vq_data( data, codebook, vocab_size ):\n",
    "    \n",
    "    train_vq = []\n",
    "    \n",
    "    for image in data:\n",
    "        image = image.T\n",
    "\n",
    "        image_vq = codebook.predict( image )\n",
    "        image_vq = np.histogram( image_vq, bins = vocab_size )[ 0 ]\n",
    "\n",
    "        train_vq.append( image_vq )\n",
    "\n",
    "    train_vq = np.asarray( train_vq )\n",
    "    \n",
    "    return train_vq"
   ]
  },
  {
   "cell_type": "markdown",
   "metadata": {},
   "source": [
    "___\n",
    "# Question 1\n",
    "\n",
    "## Train Images"
   ]
  },
  {
   "cell_type": "code",
   "execution_count": 415,
   "metadata": {},
   "outputs": [
    {
     "name": "stdout",
     "output_type": "stream",
     "text": [
      "(10, 15)\n"
     ]
    },
    {
     "data": {
      "text/plain": [
       "(150,)"
      ]
     },
     "execution_count": 415,
     "metadata": {},
     "output_type": "execute_result"
    }
   ],
   "source": [
    "desc_tr = mat_file[ 'desc_tr' ]\n",
    "\n",
    "print( desc_tr.shape )\n",
    "\n",
    "label_tr = np.asarray( [i for i in range(1,11) for x in range(15)] )\n",
    "\n",
    "label_tr.shape"
   ]
  },
  {
   "cell_type": "code",
   "execution_count": 416,
   "metadata": {},
   "outputs": [
    {
     "data": {
      "text/plain": [
       "(3363, 128)"
      ]
     },
     "execution_count": 416,
     "metadata": {},
     "output_type": "execute_result"
    }
   ],
   "source": [
    "train = desc_tr.reshape( 150 )\n",
    "\n",
    "train[ 0 ].T.shape"
   ]
  },
  {
   "cell_type": "markdown",
   "metadata": {},
   "source": [
    "## Test Images"
   ]
  },
  {
   "cell_type": "code",
   "execution_count": 417,
   "metadata": {},
   "outputs": [
    {
     "name": "stdout",
     "output_type": "stream",
     "text": [
      "(10, 15)\n"
     ]
    }
   ],
   "source": [
    "desc_te = mat_file[ 'desc_te' ]\n",
    "\n",
    "print( desc_tr.shape )\n",
    "\n",
    "label_te = np.asarray( [i for i in range(1,11) for x in range(15)] )"
   ]
  },
  {
   "cell_type": "markdown",
   "metadata": {},
   "source": [
    "## Vary Vocabulary Size"
   ]
  },
  {
   "cell_type": "code",
   "execution_count": 418,
   "metadata": {},
   "outputs": [],
   "source": [
    "random_state = 0\n",
    "img_index    = 60"
   ]
  },
  {
   "cell_type": "markdown",
   "metadata": {},
   "source": [
    "### Size 2"
   ]
  },
  {
   "cell_type": "code",
   "execution_count": 445,
   "metadata": {},
   "outputs": [
    {
     "name": "stdout",
     "output_type": "stream",
     "text": [
      "CPU times: user 16 s, sys: 606 ms, total: 16.6 s\n",
      "Wall time: 13.9 s\n"
     ]
    }
   ],
   "source": [
    "%%time\n",
    "vocab_size = 2\n",
    "codebook_2 = KMeans( n_clusters = vocab_size, random_state = random_state ).fit( desc_sel )"
   ]
  },
  {
   "cell_type": "code",
   "execution_count": 441,
   "metadata": {},
   "outputs": [
    {
     "name": "stdout",
     "output_type": "stream",
     "text": [
      "(150, 2)\n",
      "CPU times: user 932 ms, sys: 19 ms, total: 951 ms\n",
      "Wall time: 486 ms\n"
     ]
    }
   ],
   "source": [
    "train_vq_2 = vq_data( train, codebook_2, 2 )\n",
    "print( train_vq_2.shape )"
   ]
  },
  {
   "cell_type": "markdown",
   "metadata": {},
   "source": [
    "### Size 16"
   ]
  },
  {
   "cell_type": "code",
   "execution_count": 446,
   "metadata": {},
   "outputs": [
    {
     "name": "stdout",
     "output_type": "stream",
     "text": [
      "CPU times: user 1min 26s, sys: 3 s, total: 1min 29s\n",
      "Wall time: 45 s\n"
     ]
    }
   ],
   "source": [
    "%%time\n",
    "vocab_size  = 16\n",
    "codebook_16 = KMeans( n_clusters = vocab_size, random_state = random_state ).fit( desc_sel )"
   ]
  },
  {
   "cell_type": "code",
   "execution_count": 443,
   "metadata": {},
   "outputs": [
    {
     "name": "stdout",
     "output_type": "stream",
     "text": [
      "(150, 16)\n",
      "CPU times: user 1.06 s, sys: 37.4 ms, total: 1.09 s\n",
      "Wall time: 557 ms\n"
     ]
    }
   ],
   "source": [
    "%%time\n",
    "train_vq_16 = vq_data( train, codebook_16, 16 )\n",
    "print( train_vq_16.shape )"
   ]
  },
  {
   "cell_type": "markdown",
   "metadata": {},
   "source": [
    "### Size 64"
   ]
  },
  {
   "cell_type": "code",
   "execution_count": 447,
   "metadata": {},
   "outputs": [
    {
     "name": "stdout",
     "output_type": "stream",
     "text": [
      "CPU times: user 4min 11s, sys: 10.2 s, total: 4min 21s\n",
      "Wall time: 2min 15s\n"
     ]
    }
   ],
   "source": [
    "%%time\n",
    "vocab_size  = 64\n",
    "codebook_64 = KMeans( n_clusters = vocab_size, random_state = random_state ).fit( desc_sel )"
   ]
  },
  {
   "cell_type": "code",
   "execution_count": 444,
   "metadata": {},
   "outputs": [
    {
     "name": "stdout",
     "output_type": "stream",
     "text": [
      "(150, 64)\n",
      "CPU times: user 1.86 s, sys: 32.2 ms, total: 1.89 s\n",
      "Wall time: 953 ms\n"
     ]
    }
   ],
   "source": [
    "train_vq_64 = vq_data( train, codebook_64, 64 )\n",
    "print( train_vq_64.shape )"
   ]
  },
  {
   "cell_type": "markdown",
   "metadata": {},
   "source": [
    "### Size 128"
   ]
  },
  {
   "cell_type": "code",
   "execution_count": 448,
   "metadata": {},
   "outputs": [
    {
     "name": "stdout",
     "output_type": "stream",
     "text": [
      "CPU times: user 7min 44s, sys: 1min 11s, total: 8min 56s\n",
      "Wall time: 4min 41s\n"
     ]
    }
   ],
   "source": [
    "%%time\n",
    "vocab_size   = 128\n",
    "codebook_128 = KMeans( n_clusters = vocab_size, random_state = random_state ).fit( desc_sel )"
   ]
  },
  {
   "cell_type": "code",
   "execution_count": 426,
   "metadata": {},
   "outputs": [
    {
     "name": "stdout",
     "output_type": "stream",
     "text": [
      "(150, 128)\n"
     ]
    }
   ],
   "source": [
    "train_vq_128 = vq_data( train, codebook_128, 128 )\n",
    "print( train_vq_128.shape )"
   ]
  },
  {
   "cell_type": "markdown",
   "metadata": {},
   "source": [
    "## Size 256"
   ]
  },
  {
   "cell_type": "code",
   "execution_count": 516,
   "metadata": {},
   "outputs": [
    {
     "name": "stdout",
     "output_type": "stream",
     "text": [
      "CPU times: user 11min 54s, sys: 1min 50s, total: 13min 45s\n",
      "Wall time: 8min 1s\n"
     ]
    }
   ],
   "source": [
    "%%time\n",
    "vocab_size   = 256\n",
    "codebook_256 = KMeans( n_clusters = vocab_size, random_state = random_state ).fit( desc_sel )"
   ]
  },
  {
   "cell_type": "code",
   "execution_count": 517,
   "metadata": {},
   "outputs": [
    {
     "name": "stdout",
     "output_type": "stream",
     "text": [
      "(150, 256)\n",
      "CPU times: user 5.43 s, sys: 122 ms, total: 5.55 s\n",
      "Wall time: 2.81 s\n"
     ]
    }
   ],
   "source": [
    "%%time\n",
    "train_vq_256 = vq_data( train, codebook_256, 256 )\n",
    "print( train_vq_256.shape )"
   ]
  },
  {
   "cell_type": "markdown",
   "metadata": {},
   "source": [
    "## Size 512"
   ]
  },
  {
   "cell_type": "code",
   "execution_count": 518,
   "metadata": {},
   "outputs": [
    {
     "name": "stdout",
     "output_type": "stream",
     "text": [
      "CPU times: user 15min 21s, sys: 2min 27s, total: 17min 49s\n",
      "Wall time: 12min 28s\n"
     ]
    }
   ],
   "source": [
    "%%time\n",
    "vocab_size   = 512\n",
    "codebook_512 = KMeans( n_clusters = vocab_size, random_state = random_state ).fit( desc_sel )"
   ]
  },
  {
   "cell_type": "code",
   "execution_count": 519,
   "metadata": {},
   "outputs": [
    {
     "name": "stdout",
     "output_type": "stream",
     "text": [
      "(150, 512)\n",
      "CPU times: user 9.2 s, sys: 219 ms, total: 9.42 s\n",
      "Wall time: 4.73 s\n"
     ]
    }
   ],
   "source": [
    "%%time\n",
    "train_vq_512 = vq_data( train, codebook_512, 512 )\n",
    "print( train_vq_512.shape )"
   ]
  },
  {
   "cell_type": "markdown",
   "metadata": {},
   "source": [
    "## Computation Time of K-Means"
   ]
  },
  {
   "cell_type": "code",
   "execution_count": 520,
   "metadata": {},
   "outputs": [
    {
     "data": {
      "text/plain": [
       "Text(0.5,1,'Vocabulary Size vs Computation Time')"
      ]
     },
     "execution_count": 520,
     "metadata": {},
     "output_type": "execute_result"
    },
    {
     "data": {
      "image/png": "[encoded data removed]",
      "text/plain": [
       "<Figure size 432x288 with 1 Axes>"
      ]
     },
     "metadata": {
      "needs_background": "light"
     },
     "output_type": "display_data"
    }
   ],
   "source": [
    "x = [ 2, 16, 64, 128, 256, 512 ]\n",
    "y = [ 13.9, 45, 251, 464 , 708, 921 ]\n",
    "\n",
    "fig = plt.figure()\n",
    "plt.plot( x, y, 'g' )\n",
    "plt.xlabel( 'Number of Centroids' )\n",
    "plt.ylabel( 'Computation Time (s)' )\n",
    "plt.title( 'Vocabulary Size vs Computation Time' )\n"
   ]
  },
  {
   "cell_type": "markdown",
   "metadata": {},
   "source": [
    "## Histograms"
   ]
  },
  {
   "cell_type": "code",
   "execution_count": 452,
   "metadata": {},
   "outputs": [
    {
     "data": {
      "image/png": "[encoded data removed]",
      "text/plain": [
       "<Figure size 432x288 with 1 Axes>"
      ]
     },
     "metadata": {
      "needs_background": "light"
     },
     "output_type": "display_data"
    },
    {
     "data": {
      "image/png": "[encoded data removed]",
      "text/plain": [
       "<Figure size 432x288 with 1 Axes>"
      ]
     },
     "metadata": {
      "needs_background": "light"
     },
     "output_type": "display_data"
    },
    {
     "data": {
      "image/png": "[encoded data removed]",
      "text/plain": [
       "<Figure size 432x288 with 1 Axes>"
      ]
     },
     "metadata": {
      "needs_background": "light"
     },
     "output_type": "display_data"
    },
    {
     "data": {
      "image/png": "[encoded data removed]",
      "text/plain": [
       "<Figure size 432x288 with 1 Axes>"
      ]
     },
     "metadata": {
      "needs_background": "light"
     },
     "output_type": "display_data"
    },
    {
     "data": {
      "image/png": "[encoded data removed]",
      "text/plain": [
       "<Figure size 432x288 with 1 Axes>"
      ]
     },
     "metadata": {
      "needs_background": "light"
     },
     "output_type": "display_data"
    }
   ],
   "source": [
    "col = 'green'\n",
    "\n",
    "fig1 = plt.figure()\n",
    "plt.xlim( 0.5, 2.5 )\n",
    "plt.bar( [1, 2], train_vq_2[ img_index ], color = col, width = 0.2 )\n",
    "plt.title( 'Vocabulary Size = 2')\n",
    "\n",
    "fig2 = plt.figure()\n",
    "plt.bar( range( 1, 17 ), train_vq_16[ img_index ], color = col )\n",
    "plt.title( 'Vocabulary Size = 16')\n",
    "\n",
    "\n",
    "fig3 = plt.figure()\n",
    "plt.bar( range( 1, 65 ), train_vq_64[ img_index ], color = col )\n",
    "plt.title( 'Vocabulary Size = 64')\n",
    "\n",
    "\n",
    "fig4 = plt.figure()\n",
    "plt.bar( range( 1, 129 ), train_vq_128[ img_index ], color = col )\n",
    "plt.title( 'Vocabulary Size = 128')\n",
    "\n",
    "\n",
    "fig5 = plt.figure()\n",
    "plt.bar( range( 1, 257 ), train_vq_256[ img_index ], color = col )\n",
    "plt.title( 'Vocabulary Size = 256')\n",
    "\n",
    "\n",
    "plt.show()"
   ]
  },
  {
   "cell_type": "markdown",
   "metadata": {},
   "source": [
    "___\n",
    "\n",
    "# Question 2\n",
    "\n",
    "[ sklearn RandomForestClassifier](https://scikit-learn.org/stable/modules/generated/sklearn.ensemble.RandomForestClassifier.html)\n"
   ]
  },
  {
   "cell_type": "code",
   "execution_count": 430,
   "metadata": {},
   "outputs": [],
   "source": [
    "from sklearn.ensemble import RandomForestClassifier"
   ]
  },
  {
   "cell_type": "code",
   "execution_count": 431,
   "metadata": {},
   "outputs": [],
   "source": [
    "p_n_estimators = 900\n",
    "p_criterion    = 'entropy'\n",
    "p_max_depth    = 8"
   ]
  },
  {
   "cell_type": "code",
   "execution_count": 432,
   "metadata": {},
   "outputs": [
    {
     "data": {
      "text/plain": [
       "RandomForestClassifier(bootstrap=True, class_weight=None, criterion='entropy',\n",
       "            max_depth=8, max_features='auto', max_leaf_nodes=None,\n",
       "            min_impurity_decrease=0.0, min_impurity_split=None,\n",
       "            min_samples_leaf=1, min_samples_split=2,\n",
       "            min_weight_fraction_leaf=0.0, n_estimators=900, n_jobs=1,\n",
       "            oob_score=False, random_state=None, verbose=0,\n",
       "            warm_start=False)"
      ]
     },
     "execution_count": 432,
     "metadata": {},
     "output_type": "execute_result"
    }
   ],
   "source": [
    "train_vq_256.shape\n",
    "label_tr.shape\n",
    "\n",
    "clf = RandomForestClassifier( n_estimators = p_n_estimators, \n",
    "                              max_depth = p_max_depth, \n",
    "                              criterion = p_criterion )\n",
    "\n",
    "clf.fit( train_vq_256, label_tr )"
   ]
  },
  {
   "cell_type": "code",
   "execution_count": 433,
   "metadata": {},
   "outputs": [],
   "source": [
    "test = desc_te.reshape( 150 )\n",
    "\n",
    "test_vq_256 = vq_data( test, codebook_256, 256 )"
   ]
  },
  {
   "cell_type": "code",
   "execution_count": 434,
   "metadata": {},
   "outputs": [],
   "source": [
    "predict = clf.predict( test_vq_256 )"
   ]
  },
  {
   "cell_type": "code",
   "execution_count": 435,
   "metadata": {},
   "outputs": [
    {
     "name": "stdout",
     "output_type": "stream",
     "text": [
      "Accuracy: 72.66666666666667 %\n"
     ]
    }
   ],
   "source": [
    "Accuracy = ( np.sum( predict == label_te ) / label_te.shape[ 0 ] * 100 )\n",
    "\n",
    "print( 'Accuracy: {} %'.format( Accuracy ) )"
   ]
  },
  {
   "cell_type": "markdown",
   "metadata": {},
   "source": [
    "## Varying Vocabular Size"
   ]
  },
  {
   "cell_type": "code",
   "execution_count": 521,
   "metadata": {},
   "outputs": [],
   "source": [
    "# Vector Quantize the test data\n",
    "test = desc_te.reshape( 150 )\n",
    "\n",
    "test_vq_2   = vq_data( test, codebook_2, 2 )\n",
    "test_vq_16  = vq_data( test, codebook_16, 16 )\n",
    "test_vq_64  = vq_data( test, codebook_64, 64 )\n",
    "test_vq_128 = vq_data( test, codebook_128, 128 )\n",
    "test_vq_256 = vq_data( test, codebook_256, 256 )\n",
    "test_vq_512 = vq_data( test, codebook_512, 512 )\n",
    "\n",
    "test_vq = [ test_vq_2, test_vq_16, test_vq_64, test_vq_128, test_vq_256, test_vq_512 ]"
   ]
  },
  {
   "cell_type": "code",
   "execution_count": 555,
   "metadata": {},
   "outputs": [
    {
     "name": "stdout",
     "output_type": "stream",
     "text": [
      "CPU times: user 4.16 s, sys: 214 µs, total: 4.16 s\n",
      "Wall time: 4.17 s\n"
     ]
    }
   ],
   "source": [
    "%%time\n",
    "# Parameters\n",
    "p_n_estimators = 300\n",
    "p_criterion    = 'entropy'\n",
    "p_max_depth    = 4\n",
    "p_max_features = 'auto'\n",
    "\n",
    "\n",
    "clf_2   = RandomForestClassifier( n_estimators = p_n_estimators, \n",
    "                              max_depth = p_max_depth, \n",
    "                              criterion = p_criterion,\n",
    "                              max_features = p_max_features )\n",
    "\n",
    "clf_16  = RandomForestClassifier( n_estimators = p_n_estimators, \n",
    "                              max_depth = p_max_depth, \n",
    "                              criterion = p_criterion,\n",
    "                              max_features = p_max_features )\n",
    "\n",
    "clf_64  = RandomForestClassifier( n_estimators = p_n_estimators, \n",
    "                              max_depth = p_max_depth, \n",
    "                              criterion = p_criterion,\n",
    "                              max_features = p_max_features )\n",
    "\n",
    "clf_128 = RandomForestClassifier( n_estimators = p_n_estimators, \n",
    "                              max_depth = p_max_depth, \n",
    "                              criterion = p_criterion,\n",
    "                              max_features = p_max_features )\n",
    "\n",
    "clf_256 = RandomForestClassifier( n_estimators = p_n_estimators, \n",
    "                              max_depth = p_max_depth, \n",
    "                              criterion = p_criterion,\n",
    "                              max_features = p_max_features )\n",
    "\n",
    "clf_512 = RandomForestClassifier( n_estimators = p_n_estimators, \n",
    "                              max_depth = p_max_depth, \n",
    "                              criterion = p_criterion,\n",
    "                              max_features = p_max_features )\n",
    "\n",
    "clf_2.fit( train_vq_2, label_tr )\n",
    "clf_16.fit( train_vq_16, label_tr )\n",
    "clf_64.fit( train_vq_64, label_tr )\n",
    "clf_128.fit( train_vq_128, label_tr )\n",
    "clf_256.fit( train_vq_256, label_tr )\n",
    "clf_512.fit( train_vq_512, label_tr )"
   ]
  },
  {
   "cell_type": "code",
   "execution_count": 551,
   "metadata": {},
   "outputs": [],
   "source": [
    "rf_clf = [ clf_2, clf_16, clf_64, clf_128, clf_256, clf_512 ]\n",
    "\n",
    "accuracies = []\n",
    "\n",
    "for i in range( len( rf_clf ) ):\n",
    "    \n",
    "    pred     = rf_clf[ i ].predict( test_vq[ i ] )\n",
    "    accuracy = ( np.sum( pred == label_te ) / label_te.shape[ 0 ] * 100 )\n",
    "    \n",
    "    accuracies.append( accuracy )\n"
   ]
  },
  {
   "cell_type": "code",
   "execution_count": 552,
   "metadata": {},
   "outputs": [
    {
     "data": {
      "text/plain": [
       "[20.666666666666668,\n",
       " 59.333333333333336,\n",
       " 67.33333333333333,\n",
       " 70.66666666666667,\n",
       " 70.66666666666667,\n",
       " 72.66666666666667]"
      ]
     },
     "execution_count": 552,
     "metadata": {},
     "output_type": "execute_result"
    }
   ],
   "source": []
  },
  {
   "cell_type": "markdown",
   "metadata": {},
   "source": [
    "## Varying Max Depth"
   ]
  },
  {
   "cell_type": "code",
   "execution_count": 577,
   "metadata": {},
   "outputs": [],
   "source": [
    "md_accuracy = []\n",
    "md_time = []"
   ]
  },
  {
   "cell_type": "code",
   "execution_count": 588,
   "metadata": {},
   "outputs": [
    {
     "name": "stdout",
     "output_type": "stream",
     "text": [
      "CPU times: user 2.87 s, sys: 0 ns, total: 2.87 s\n",
      "Wall time: 2.87 s\n"
     ]
    }
   ],
   "source": [
    "%%time\n",
    "\n",
    "p_max_depth    = 32\n",
    "\n",
    "p_n_estimators = 900\n",
    "p_criterion    = 'entropy'\n",
    "p_max_features = 'auto'\n",
    "\n",
    "clf_256_max_depth = RandomForestClassifier( n_estimators = p_n_estimators, \n",
    "                              max_depth = p_max_depth, \n",
    "                              criterion = p_criterion,\n",
    "                              max_features = p_max_features )\n",
    "\n",
    "clf_256_max_depth.fit( train_vq_256, label_tr )\n",
    "\n",
    "pred = clf_256_max_depth.predict( test_vq_256 )\n",
    "accuracy = ( np.sum( pred == label_te ) / label_te.shape[ 0 ] * 100 )\n",
    "\n",
    "md_accuracy.append( accuracy )\n"
   ]
  },
  {
   "cell_type": "code",
   "execution_count": 590,
   "metadata": {},
   "outputs": [
    {
     "name": "stdout",
     "output_type": "stream",
     "text": [
      "[61.33333333333333, 63.33333333333333, 69.33333333333334, 71.33333333333334, 74.0, 72.66666666666667]\n"
     ]
    }
   ],
   "source": [
    "md_time = [ 1.46, 1.87, 2.56, 2.85, 2.87, 2.87 ]\n",
    "\n",
    "print( md_accuracy )\n",
    "\n",
    "md_depths = [ 1, 2, 4, 8, 12, 32 ]\n"
   ]
  },
  {
   "cell_type": "code",
   "execution_count": 597,
   "metadata": {},
   "outputs": [
    {
     "data": {
      "text/plain": [
       "Text(0,0.5,'Accuracy(%)')"
      ]
     },
     "execution_count": 597,
     "metadata": {},
     "output_type": "execute_result"
    },
    {
     "data": {
      "image/png": "[encoded data removed]",
      "text/plain": [
       "<Figure size 432x288 with 1 Axes>"
      ]
     },
     "metadata": {
      "needs_background": "light"
     },
     "output_type": "display_data"
    },
    {
     "data": {
      "image/png": "[encoded data removed]",
      "text/plain": [
       "<Figure size 432x288 with 1 Axes>"
      ]
     },
     "metadata": {
      "needs_background": "light"
     },
     "output_type": "display_data"
    }
   ],
   "source": [
    "fig = plt.figure()\n",
    "plt.plot( md_depths, md_time, 'g' )\n",
    "plt.title( 'Computation Time observed as Max Tree Depth is varied' )\n",
    "plt.xlabel( 'Depth of Tree' )\n",
    "plt.ylabel( 'Time(s)' )\n",
    "\n",
    "fig2 = plt.figure()\n",
    "plt.plot( md_depths, md_accuracy, 'g' )\n",
    "plt.title( 'Accuracy observed as Max Tree Depth is varied' )\n",
    "plt.xlabel( 'Depth of Tree' )\n",
    "plt.ylabel( 'Accuracy(%)' )"
   ]
  },
  {
   "cell_type": "markdown",
   "metadata": {},
   "source": [
    "## Varying Number of Trees in Forest"
   ]
  },
  {
   "cell_type": "code",
   "execution_count": 622,
   "metadata": {},
   "outputs": [],
   "source": [
    "nt_accuracy = []\n",
    "nt_time = []"
   ]
  },
  {
   "cell_type": "code",
   "execution_count": 623,
   "metadata": {},
   "outputs": [],
   "source": [
    "nt_trees = [ 50, 100, 200, 500, 900, 1500, 3000 ]"
   ]
  },
  {
   "cell_type": "code",
   "execution_count": 635,
   "metadata": {},
   "outputs": [
    {
     "name": "stdout",
     "output_type": "stream",
     "text": [
      "CPU times: user 9.35 s, sys: 0 ns, total: 9.35 s\n",
      "Wall time: 9.35 s\n"
     ]
    }
   ],
   "source": [
    "%%time\n",
    "\n",
    "p_n_estimators = nt_trees[ 6 ]\n",
    "\n",
    "p_max_depth    = 8\n",
    "p_criterion    = 'entropy'\n",
    "p_max_features = 'auto'\n",
    "\n",
    "clf_256_max_depth = RandomForestClassifier( n_estimators = p_n_estimators, \n",
    "                              max_depth = p_max_depth, \n",
    "                              criterion = p_criterion,\n",
    "                              max_features = p_max_features )\n",
    "\n",
    "clf_256_max_depth.fit( train_vq_256, label_tr )\n",
    "\n",
    "pred = clf_256_max_depth.predict( test_vq_256 )\n",
    "accuracy = ( np.sum( pred == label_te ) / label_te.shape[ 0 ] * 100 )\n",
    "\n",
    "nt_accuracy.append( accuracy )"
   ]
  },
  {
   "cell_type": "code",
   "execution_count": 636,
   "metadata": {},
   "outputs": [
    {
     "name": "stdout",
     "output_type": "stream",
     "text": [
      "[66.0, 72.0, 71.33333333333334, 72.0, 72.66666666666667, 72.0, 72.0]\n"
     ]
    }
   ],
   "source": [
    "nt_time = [ 0.181, 0.325, 0.652, 1.62, 3.04, 4.76, 9.38 ]\n",
    "\n",
    "print( nt_accuracy )"
   ]
  },
  {
   "cell_type": "code",
   "execution_count": 639,
   "metadata": {},
   "outputs": [
    {
     "data": {
      "image/png": "[encoded data removed]",
      "text/plain": [
       "<Figure size 432x288 with 1 Axes>"
      ]
     },
     "metadata": {
      "needs_background": "light"
     },
     "output_type": "display_data"
    },
    {
     "data": {
      "image/png": "[encoded data removed]",
      "text/plain": [
       "<Figure size 432x288 with 1 Axes>"
      ]
     },
     "metadata": {
      "needs_background": "light"
     },
     "output_type": "display_data"
    }
   ],
   "source": [
    "fig = plt.figure()\n",
    "plt.plot( nt_trees, nt_time, 'g' )\n",
    "plt.title( 'Computation Time observed as No. Trees is varied' )\n",
    "plt.xlabel( 'No. Trees' )\n",
    "plt.ylabel( 'Time(s)' )\n",
    "\n",
    "fig2 = plt.figure()\n",
    "plt.plot( nt_trees, nt_accuracy, 'g' )\n",
    "plt.title( 'Accuracy observed as No. Trees is varied' )\n",
    "plt.xlabel( 'No. Trees' )\n",
    "plt.ylabel( 'Accuracy(%)' )\n",
    "\n",
    "plt.show()"
   ]
  },
  {
   "cell_type": "markdown",
   "metadata": {},
   "source": [
    "## Varying Randomness Parameter"
   ]
  },
  {
   "cell_type": "code",
   "execution_count": 640,
   "metadata": {},
   "outputs": [],
   "source": [
    "rp_accuracy = []\n",
    "rp_time = []"
   ]
  },
  {
   "cell_type": "code",
   "execution_count": 657,
   "metadata": {},
   "outputs": [],
   "source": [
    "rp_p = [ 1, 2, 4, 8, 12, 20, 50, None ]"
   ]
  },
  {
   "cell_type": "code",
   "execution_count": 658,
   "metadata": {},
   "outputs": [
    {
     "name": "stdout",
     "output_type": "stream",
     "text": [
      "CPU times: user 5.93 s, sys: 6.91 ms, total: 5.94 s\n",
      "Wall time: 5.94 s\n"
     ]
    }
   ],
   "source": [
    "%%time\n",
    "\n",
    "p_max_features = rp_p[ 6 ]\n",
    "\n",
    "p_n_estimators = 900\n",
    "p_max_depth    = 8\n",
    "p_criterion    = 'entropy'\n",
    "\n",
    "\n",
    "clf_256_max_depth = RandomForestClassifier( n_estimators = p_n_estimators, \n",
    "                              max_depth = p_max_depth, \n",
    "                              criterion = p_criterion,\n",
    "                              max_features = p_max_features )\n",
    "\n",
    "clf_256_max_depth.fit( train_vq_256, label_tr )\n",
    "\n",
    "pred = clf_256_max_depth.predict( test_vq_256 )\n",
    "accuracy = ( np.sum( pred == label_te ) / label_te.shape[ 0 ] * 100 )\n",
    "\n",
    "rp_accuracy.append( accuracy )"
   ]
  },
  {
   "cell_type": "code",
   "execution_count": 659,
   "metadata": {},
   "outputs": [
    {
     "name": "stdout",
     "output_type": "stream",
     "text": [
      "[66.66666666666666, 68.0, 69.33333333333334, 72.66666666666667, 73.33333333333333, 72.66666666666667, 72.0, 72.66666666666667]\n"
     ]
    }
   ],
   "source": [
    "rp_time = [ 1.71, 1.45, 1.71, 2.08, 2.49, 3.22, 5.85, 5.93 ]\n",
    "\n",
    "print( rp_accuracy )"
   ]
  },
  {
   "cell_type": "code",
   "execution_count": 661,
   "metadata": {},
   "outputs": [
    {
     "data": {
      "image/png": "[encoded data removed]",
      "text/plain": [
       "<Figure size 432x288 with 1 Axes>"
      ]
     },
     "metadata": {
      "needs_background": "light"
     },
     "output_type": "display_data"
    },
    {
     "data": {
      "image/png": "[encoded data removed]",
      "text/plain": [
       "<Figure size 432x288 with 1 Axes>"
      ]
     },
     "metadata": {
      "needs_background": "light"
     },
     "output_type": "display_data"
    }
   ],
   "source": [
    "fig = plt.figure()\n",
    "plt.plot( rp_p, rp_time, 'g' )\n",
    "plt.title( 'Computation Time observed as No. Trees is varied' )\n",
    "plt.xlabel( 'No. Trees' )\n",
    "plt.ylabel( 'Time(s)' )\n",
    "\n",
    "fig2 = plt.figure()\n",
    "plt.plot( rp_p, rp_accuracy, 'g' )\n",
    "plt.title( 'Accuracy observed as No. Trees is varied' )\n",
    "plt.xlabel( 'No. Trees' )\n",
    "plt.ylabel( 'Accuracy(%)' )\n",
    "\n",
    "plt.show()"
   ]
  },
  {
   "cell_type": "markdown",
   "metadata": {},
   "source": [
    "## Testing Histograms"
   ]
  },
  {
   "cell_type": "code",
   "execution_count": 454,
   "metadata": {},
   "outputs": [
    {
     "data": {
      "image/png": "[encoded data removed]",
      "text/plain": [
       "<Figure size 432x288 with 1 Axes>"
      ]
     },
     "metadata": {
      "needs_background": "light"
     },
     "output_type": "display_data"
    },
    {
     "data": {
      "image/png": "[encoded data removed]",
      "text/plain": [
       "<Figure size 432x288 with 1 Axes>"
      ]
     },
     "metadata": {
      "needs_background": "light"
     },
     "output_type": "display_data"
    },
    {
     "data": {
      "image/png": "[encoded data removed]",
      "text/plain": [
       "<Figure size 432x288 with 1 Axes>"
      ]
     },
     "metadata": {
      "needs_background": "light"
     },
     "output_type": "display_data"
    },
    {
     "data": {
      "image/png": "[encoded data removed]",
      "text/plain": [
       "<Figure size 432x288 with 1 Axes>"
      ]
     },
     "metadata": {
      "needs_background": "light"
     },
     "output_type": "display_data"
    },
    {
     "data": {
      "image/png": "[encoded data removed]",
      "text/plain": [
       "<Figure size 432x288 with 1 Axes>"
      ]
     },
     "metadata": {
      "needs_background": "light"
     },
     "output_type": "display_data"
    }
   ],
   "source": [
    "col = 'red'\n",
    "\n",
    "fig1 = plt.figure()\n",
    "plt.xlim( 0.5, 2.5 )\n",
    "plt.bar( [1, 2], test_vq_2[ img_index ], color = col, width = 0.2 )\n",
    "plt.title( 'Vocabulary Size = 2')\n",
    "\n",
    "fig2 = plt.figure()\n",
    "plt.bar( range( 1, 17 ), test_vq_16[ img_index ], color = col )\n",
    "plt.title( 'Vocabulary Size = 16')\n",
    "\n",
    "\n",
    "fig3 = plt.figure()\n",
    "plt.bar( range( 1, 65 ), test_vq_64[ img_index ], color = col )\n",
    "plt.title( 'Vocabulary Size = 64')\n",
    "\n",
    "\n",
    "fig4 = plt.figure()\n",
    "plt.bar( range( 1, 129 ), test_vq_128[ img_index ], color = col )\n",
    "plt.title( 'Vocabulary Size = 128')\n",
    "\n",
    "\n",
    "fig5 = plt.figure()\n",
    "plt.bar( range( 1, 257 ), test_vq_256[ img_index ], color = col )\n",
    "plt.title( 'Vocabulary Size = 256')\n",
    "\n",
    "\n",
    "plt.show()"
   ]
  },
  {
   "cell_type": "markdown",
   "metadata": {},
   "source": [
    "___\n",
    "\n",
    "## Cross Validation"
   ]
  },
  {
   "cell_type": "code",
   "execution_count": 717,
   "metadata": {},
   "outputs": [
    {
     "name": "stdout",
     "output_type": "stream",
     "text": [
      "Accuracy:  100.0\n",
      "Accuracy:  66.66666666666666\n",
      "Accuracy:  60.0\n",
      "Accuracy:  66.66666666666666\n",
      "Accuracy:  66.66666666666666\n",
      "Accuracy:  60.0\n",
      "Accuracy:  60.0\n",
      "Accuracy:  66.66666666666666\n",
      "Accuracy:  73.33333333333333\n",
      "Accuracy:  66.66666666666666\n"
     ]
    }
   ],
   "source": [
    "from sklearn.model_selection import KFold, LeaveOneOut\n",
    "\n",
    "p_max_features = 12\n",
    "p_n_estimators = 900\n",
    "p_max_depth    = 8\n",
    "p_criterion    = 'entropy'\n",
    "p_max_features = 12\n",
    "\n",
    "\n",
    "models = []\n",
    "acc    = []\n",
    "\n",
    "kf = KFold( n_splits = 10, shuffle = True )\n",
    "kf.get_n_splits( train_vq_256 )\n",
    "\n",
    "for train_idx, test_idx in kf.split( train_vq_256 ):\n",
    "  \n",
    "    X_train, X_test = train_vq_256[train_idx], train_vq_256[test_idx]\n",
    "    Y_train, Y_test = label_tr[train_idx], label_tr[test_idx]\n",
    "        \n",
    "    clf_256_kfold = RandomForestClassifier( n_estimators = p_n_estimators, \n",
    "                              max_depth = p_max_depth, \n",
    "                              criterion = p_criterion,\n",
    "                              max_features = p_max_features )\n",
    "    \n",
    "    model = clf_256_kfold.fit( X_train, Y_train )\n",
    "    \n",
    "    models.append( model )\n",
    "    \n",
    "    pred = clf_256_kfold.predict( X_test )\n",
    "    \n",
    "    \n",
    "    accuracy = ( np.sum( pred == Y_test ) / Y_test.shape[ 0 ] * 100 )\n",
    "    \n",
    "    \n",
    "    print( 'Accuracy: ', accuracy)\n",
    "    \n",
    "    acc.append( accuracy )\n",
    "\n",
    "    "
   ]
  },
  {
   "cell_type": "code",
   "execution_count": 718,
   "metadata": {},
   "outputs": [
    {
     "name": "stdout",
     "output_type": "stream",
     "text": [
      "75.33333333333333\n"
     ]
    }
   ],
   "source": [
    "opt_pred = models[ 8 ].predict( test_vq_256 )\n",
    "\n",
    "opt_accuracy = ( np.sum( opt_pred == label_te ) / label_te.shape[ 0 ] * 100 )\n",
    "\n",
    "print( opt_accuracy )\n",
    "\n"
   ]
  },
  {
   "cell_type": "code",
   "execution_count": 719,
   "metadata": {},
   "outputs": [
    {
     "name": "stdout",
     "output_type": "stream",
     "text": [
      "Confusion matrix, without normalization\n",
      "[[11  0  0  0  1  1  0  2  0  0]\n",
      " [ 0 14  0  0  0  0  1  0  0  0]\n",
      " [ 0  0  8  0  0  0  0  0  0  0]\n",
      " [ 0  0  0 10  0  0  0  0  0  0]\n",
      " [ 0  1  2  2 11  0  0  0  1  0]\n",
      " [ 0  0  0  0  0 12  0  0  0  0]\n",
      " [ 1  0  3  0  1  1  9  1  1  1]\n",
      " [ 0  0  0  1  0  1  1 12  0  0]\n",
      " [ 3  0  1  2  2  0  4  0 12  0]\n",
      " [ 0  0  1  0  0  0  0  0  1 14]]\n",
      "Normalized confusion matrix\n",
      "[[0.73 0.   0.   0.   0.07 0.07 0.   0.13 0.   0.  ]\n",
      " [0.   0.93 0.   0.   0.   0.   0.07 0.   0.   0.  ]\n",
      " [0.   0.   1.   0.   0.   0.   0.   0.   0.   0.  ]\n",
      " [0.   0.   0.   1.   0.   0.   0.   0.   0.   0.  ]\n",
      " [0.   0.06 0.12 0.12 0.65 0.   0.   0.   0.06 0.  ]\n",
      " [0.   0.   0.   0.   0.   1.   0.   0.   0.   0.  ]\n",
      " [0.06 0.   0.17 0.   0.06 0.06 0.5  0.06 0.06 0.06]\n",
      " [0.   0.   0.   0.07 0.   0.07 0.07 0.8  0.   0.  ]\n",
      " [0.12 0.   0.04 0.08 0.08 0.   0.17 0.   0.5  0.  ]\n",
      " [0.   0.   0.06 0.   0.   0.   0.   0.   0.06 0.88]]\n"
     ]
    },
    {
     "data": {
      "image/png": "[encoded data removed]",
      "text/plain": [
       "<Figure size 432x288 with 2 Axes>"
      ]
     },
     "metadata": {
      "needs_background": "light"
     },
     "output_type": "display_data"
    },
    {
     "data": {
      "image/png": "[encoded data removed]",
      "text/plain": [
       "<Figure size 432x288 with 2 Axes>"
      ]
     },
     "metadata": {
      "needs_background": "light"
     },
     "output_type": "display_data"
    }
   ],
   "source": [
    "import itertools\n",
    "from sklearn.metrics import confusion_matrix\n",
    "class_names=[1,2,3,4,5,6,7,8,9,10]\n",
    "\n",
    "def plot_confusion_matrix(cm, classes,\n",
    "                          normalize=False,\n",
    "                          title='Confusion matrix',\n",
    "                          cmap=plt.cm.Blues):\n",
    "    \"\"\"\n",
    "    This function prints and plots the confusion matrix.\n",
    "    Normalization can be applied by setting normalize=True.\n",
    "    \"\"\"\n",
    "    if normalize:\n",
    "        cm = cm.astype('float') / cm.sum(axis=1)[:, np.newaxis]\n",
    "        print(\"Normalized confusion matrix\")\n",
    "    else:\n",
    "        print('Confusion matrix, without normalization')\n",
    "\n",
    "    print(cm)\n",
    "#     plt.figure(figsize=(20,4))\n",
    "    plt.imshow(cm, interpolation='nearest', cmap=cmap)\n",
    "    plt.title(title)\n",
    "    plt.colorbar()\n",
    "    tick_marks = np.arange(len(classes))\n",
    "    plt.xticks(tick_marks, classes, rotation=45)\n",
    "    plt.yticks(tick_marks, classes)\n",
    "\n",
    "    fmt = '.2f' if normalize else 'd'\n",
    "    thresh = cm.max() / 2.\n",
    "    for i, j in itertools.product(range(cm.shape[0]), range(cm.shape[1])):\n",
    "        plt.text(j, i, format(cm[i, j], fmt),\n",
    "                 horizontalalignment=\"center\",\n",
    "                 color=\"white\" if cm[i, j] > thresh else \"black\")\n",
    "\n",
    "    plt.ylabel('True label')\n",
    "    plt.xlabel('Predicted label')\n",
    "    plt.tight_layout()\n",
    "\n",
    "\n",
    "# Compute confusion matrix\n",
    "cnf_matrix = confusion_matrix(opt_pred, label_te)\n",
    "np.set_printoptions(precision=2)\n",
    "\n",
    "# Plot non-normalized confusion matrix\n",
    "plt.figure()\n",
    "plot_confusion_matrix(cnf_matrix, classes=class_names,\n",
    "                      title='Confusion matrix of RF-codebook result, without normalization')\n",
    "\n",
    "# Plot normalized confusion matrix\n",
    "plt.figure()\n",
    "plot_confusion_matrix(cnf_matrix, classes=class_names, normalize=True,\n",
    "                      title='Normalized confusion matrix')\n",
    "\n",
    "plt.show()"
   ]
  },
  {
   "cell_type": "code",
   "execution_count": null,
   "metadata": {},
   "outputs": [],
   "source": []
  }
 ],
 "metadata": {
  "kernelspec": {
   "display_name": "Python 3",
   "language": "python",
   "name": "python3"
  },
  "language_info": {
   "codemirror_mode": {
    "name": "ipython",
    "version": 3
   },
   "file_extension": ".py",
   "mimetype": "text/x-python",
   "name": "python",
   "nbconvert_exporter": "python",
   "pygments_lexer": "ipython3",
   "version": "3.7.0"
  }
 },
 "nbformat": 4,
 "nbformat_minor": 2
}
